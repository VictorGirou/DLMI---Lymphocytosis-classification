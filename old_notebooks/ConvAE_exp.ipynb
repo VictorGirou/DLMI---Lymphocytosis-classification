{
 "cells": [
  {
   "cell_type": "code",
   "execution_count": 30,
   "metadata": {},
   "outputs": [],
   "source": [
    "import torch \n",
    "import os\n",
    "import numpy as np\n",
    "import umap\n",
    "import pandas as pd \n",
    "import matplotlib.pyplot as plt\n",
    "import seaborn as sns \n",
    "import xgboost as xgb\n",
    "\n",
    "from FeatureExtraction.ConvolutionalAE import ConvAE\n",
    "\n",
    "from sklearn.preprocessing import LabelEncoder\n",
    "from sklearn.model_selection import train_test_split\n",
    "from sklearn.svm import SVC\n",
    "from sklearn.naive_bayes import GaussianNB\n",
    "from sklearn.metrics import accuracy_score, confusion_matrix\n",
    "\n",
    "from torch.utils.data import Dataset, DataLoader\n",
    "from torchvision import transforms\n",
    "from PIL import Image"
   ]
  },
  {
   "cell_type": "markdown",
   "metadata": {},
   "source": [
    "##  Load data "
   ]
  },
  {
   "cell_type": "code",
   "execution_count": 2,
   "metadata": {},
   "outputs": [],
   "source": [
    "cwd = os.getcwd()\n",
    "annotation_file = os.path.join(cwd, \"data\", \"clinical_annotation.csv\")"
   ]
  },
  {
   "cell_type": "code",
   "execution_count": 3,
   "metadata": {},
   "outputs": [],
   "source": [
    "df_ann = pd.read_csv(annotation_file)\n",
    "df_ann.drop(\"Unnamed: 0\", axis=1, inplace=True)\n",
    "\n",
    "# compute age \n",
    "def compute_age(x):\n",
    "    year = int(x[-4:])\n",
    "    return 2024 - year\n",
    "    \n",
    "df_ann[\"age\"] = df_ann.DOB.apply(compute_age)\n",
    "df_ann.drop(\"DOB\", axis=1, inplace=True)\n",
    "\n",
    "#encode gender\n",
    "df_ann[\"GENDER\"] = df_ann[\"GENDER\"].replace('f', \"F\")\n",
    "label_encoder = LabelEncoder()\n",
    "df_ann['GENDER'] = label_encoder.fit_transform(df_ann['GENDER'])\n",
    "\n",
    "df_ann.set_index(\"ID\", inplace=True)"
   ]
  },
  {
   "cell_type": "code",
   "execution_count": 4,
   "metadata": {},
   "outputs": [
    {
     "data": {
      "text/html": [
       "<div>\n",
       "<style scoped>\n",
       "    .dataframe tbody tr th:only-of-type {\n",
       "        vertical-align: middle;\n",
       "    }\n",
       "\n",
       "    .dataframe tbody tr th {\n",
       "        vertical-align: top;\n",
       "    }\n",
       "\n",
       "    .dataframe thead th {\n",
       "        text-align: right;\n",
       "    }\n",
       "</style>\n",
       "<table border=\"1\" class=\"dataframe\">\n",
       "  <thead>\n",
       "    <tr style=\"text-align: right;\">\n",
       "      <th></th>\n",
       "      <th>LABEL</th>\n",
       "      <th>GENDER</th>\n",
       "      <th>LYMPH_COUNT</th>\n",
       "      <th>age</th>\n",
       "    </tr>\n",
       "    <tr>\n",
       "      <th>ID</th>\n",
       "      <th></th>\n",
       "      <th></th>\n",
       "      <th></th>\n",
       "      <th></th>\n",
       "    </tr>\n",
       "  </thead>\n",
       "  <tbody>\n",
       "    <tr>\n",
       "      <th>P26</th>\n",
       "      <td>1</td>\n",
       "      <td>1</td>\n",
       "      <td>11.2</td>\n",
       "      <td>91</td>\n",
       "    </tr>\n",
       "    <tr>\n",
       "      <th>P183</th>\n",
       "      <td>1</td>\n",
       "      <td>1</td>\n",
       "      <td>12.8</td>\n",
       "      <td>82</td>\n",
       "    </tr>\n",
       "    <tr>\n",
       "      <th>P89</th>\n",
       "      <td>1</td>\n",
       "      <td>1</td>\n",
       "      <td>9.6</td>\n",
       "      <td>89</td>\n",
       "    </tr>\n",
       "    <tr>\n",
       "      <th>P123</th>\n",
       "      <td>1</td>\n",
       "      <td>1</td>\n",
       "      <td>122.6</td>\n",
       "      <td>93</td>\n",
       "    </tr>\n",
       "    <tr>\n",
       "      <th>P61</th>\n",
       "      <td>1</td>\n",
       "      <td>0</td>\n",
       "      <td>11.6</td>\n",
       "      <td>93</td>\n",
       "    </tr>\n",
       "  </tbody>\n",
       "</table>\n",
       "</div>"
      ],
      "text/plain": [
       "      LABEL  GENDER  LYMPH_COUNT  age\n",
       "ID                                   \n",
       "P26       1       1         11.2   91\n",
       "P183      1       1         12.8   82\n",
       "P89       1       1          9.6   89\n",
       "P123      1       1        122.6   93\n",
       "P61       1       0         11.6   93"
      ]
     },
     "execution_count": 4,
     "metadata": {},
     "output_type": "execute_result"
    }
   ],
   "source": [
    "df_ann.head()"
   ]
  },
  {
   "cell_type": "code",
   "execution_count": 5,
   "metadata": {},
   "outputs": [],
   "source": [
    "\n",
    "class PatientDataset(Dataset):\n",
    "    def __init__(self, root_dir, labels, patients, transform=None):\n",
    "        self.root_dir = root_dir\n",
    "        self.transform = transform\n",
    "        self.patients = patients\n",
    "        self.labels = labels\n",
    "\n",
    "    def __len__(self):\n",
    "        return len(self.patients)\n",
    "\n",
    "    def __getitem__(self, idx):\n",
    "        patient_folder = os.path.join(self.root_dir, self.patients[idx])\n",
    "        images = []\n",
    "        for filename in os.listdir(patient_folder):\n",
    "            image_path = os.path.join(patient_folder, filename)\n",
    "            image = Image.open(image_path).convert('RGB')\n",
    "            if self.transform:\n",
    "                image = self.transform(image)\n",
    "            images.append(image)\n",
    "        label = self.labels[self.patients[idx]]\n",
    "        label_tensor = torch.tensor([label], dtype=torch.float32)\n",
    "    \n",
    "        return torch.stack(images), label_tensor, self.patients[idx]"
   ]
  },
  {
   "cell_type": "markdown",
   "metadata": {},
   "source": [
    "### Perform train-test split"
   ]
  },
  {
   "cell_type": "code",
   "execution_count": 6,
   "metadata": {},
   "outputs": [],
   "source": [
    "# separate patients for submission and annotated patients\n",
    "sub_patients = df_ann[df_ann.LABEL==-1].index\n",
    "annoted_patients = df_ann[df_ann.LABEL >= 0].index.to_numpy()\n",
    "\n",
    "# perform train-test split\n",
    "train_index = np.random.choice(np.arange(len(annoted_patients)), size=135, replace=False)\n",
    "test_index = list(set(range(len(annoted_patients))) - set(train_index))\n",
    "\n",
    "train_patients = annoted_patients[train_index]\n",
    "test_patients = annoted_patients[test_index]"
   ]
  },
  {
   "cell_type": "markdown",
   "metadata": {},
   "source": [
    "## Load model"
   ]
  },
  {
   "cell_type": "code",
   "execution_count": 7,
   "metadata": {},
   "outputs": [],
   "source": [
    "ae = torch.load('./FeatureExtraction/convae.pt')"
   ]
  },
  {
   "cell_type": "markdown",
   "metadata": {},
   "source": [
    "## Data preprocessing using auto-encoder"
   ]
  },
  {
   "cell_type": "code",
   "execution_count": 8,
   "metadata": {},
   "outputs": [],
   "source": [
    "# perform test\n",
    "labels = df_ann[df_ann.index.isin(train_patients)].LABEL\n",
    "transform = transforms.Compose([\n",
    "        transforms.Resize((224, 224)),\n",
    "        transforms.ToTensor(),\n",
    "    ])\n",
    "\n",
    "dataset = PatientDataset(\"./data/trainset/\", labels, train_patients, transform) \n",
    "loader = DataLoader(dataset)"
   ]
  },
  {
   "cell_type": "code",
   "execution_count": 10,
   "metadata": {},
   "outputs": [],
   "source": [
    "mean_sets = np.zeros((len(loader), 3*55*55))\n",
    "std_sets = np.zeros((len(loader), 3*55*55))\n",
    "max_sets = np.zeros((len(loader), 3*55*55))\n",
    "all_images_sets = []\n",
    "all_flatten_sets = []\n",
    "labels = []\n",
    "patients = []\n",
    "\n",
    "for i, data in enumerate(loader):\n",
    "    # get inputs\n",
    "    inputs, label, patient = data\n",
    "    inputs = torch.squeeze(inputs, dim=0)\n",
    "    labels.append(label.numpy()[0][0])\n",
    "    patients.append(patient[0])\n",
    "\n",
    "    # compute ae ouptut and flattend\n",
    "    y = ae.encoder(inputs)\n",
    "    y_flat = torch.flatten(y, start_dim=1)\n",
    "\n",
    "    # keep all dimensions\n",
    "    all_images_sets.append(y.detach().numpy())\n",
    "    all_flatten_sets.append(y_flat.detach().numpy())\n",
    "\n",
    "    # compute mean, std and max\n",
    "    mean_sets[i, :] = torch.mean(y_flat, dim=0).detach().numpy() \n",
    "    std_sets[i, :] = torch.std(y_flat, dim=0).detach().numpy() \n",
    "    max_, _ = torch.max(y_flat, dim=0)\n",
    "    max_sets[i, :] = max_.detach().numpy()"
   ]
  },
  {
   "cell_type": "markdown",
   "metadata": {},
   "source": [
    "## UMAP features"
   ]
  },
  {
   "cell_type": "code",
   "execution_count": 11,
   "metadata": {},
   "outputs": [],
   "source": [
    "# Initialize UMAP with desired parameters\n",
    "umap_model = umap.UMAP(min_dist=0.1, metric=\"manhattan\")\n",
    "\n",
    "concatenated_array = np.concatenate((max_sets, std_sets), axis=1)\n",
    "# Fit UMAP to your data and transform it to 2D\n",
    "umap_result = umap_model.fit_transform(concatenated_array)"
   ]
  },
  {
   "cell_type": "code",
   "execution_count": 12,
   "metadata": {},
   "outputs": [
    {
     "data": {
      "image/png": "[encoded data removed]",
      "text/plain": [
       "<Figure size 700x700 with 1 Axes>"
      ]
     },
     "metadata": {},
     "output_type": "display_data"
    }
   ],
   "source": [
    "plt.figure(figsize=(7, 7))\n",
    "\n",
    "plt.scatter(umap_result[[i for i, val in enumerate(labels) if val==0.], 0], \n",
    "            umap_result[[i for i, val in enumerate(labels) if val==0.], 1], \n",
    "            marker='o', s=10, color=\"green\")\n",
    "\n",
    "plt.scatter(umap_result[[i for i, val in enumerate(labels) if val==1.], 0], \n",
    "            umap_result[[i for i, val in enumerate(labels) if val==1.], 1], \n",
    "            marker='o', s=10, color=\"red\")\n",
    "\n",
    "plt.title('UMAP Visualization of Train images')\n",
    "plt.xlabel('UMAP Dimension 1')\n",
    "plt.ylabel('UMAP Dimension 2')\n",
    "plt.show()"
   ]
  },
  {
   "cell_type": "code",
   "execution_count": 22,
   "metadata": {},
   "outputs": [
    {
     "data": {
      "text/plain": [
       "((135, 2), (135, 3))"
      ]
     },
     "execution_count": 22,
     "metadata": {},
     "output_type": "execute_result"
    }
   ],
   "source": [
    "umap_result.shape, arr.shape"
   ]
  },
  {
   "cell_type": "code",
   "execution_count": 23,
   "metadata": {},
   "outputs": [],
   "source": [
    "arr = np.zeros((len(loader), 3))\n",
    "for i, patient in enumerate(patients):\n",
    "    arr[i, :] = df_ann[[\"GENDER\", \"age\", \"LYMPH_COUNT\"]].loc[df_ann.index == patient].to_numpy()\n",
    "\n",
    "X_train = np.concatenate((umap_result, arr), axis=1)"
   ]
  },
  {
   "cell_type": "code",
   "execution_count": 25,
   "metadata": {},
   "outputs": [],
   "source": [
    "X_t, X_val, y_t, y_val = train_test_split(X_train, labels)"
   ]
  },
  {
   "cell_type": "code",
   "execution_count": 33,
   "metadata": {},
   "outputs": [
    {
     "data": {
      "text/html": [
       "<style>#sk-container-id-3 {color: black;}#sk-container-id-3 pre{padding: 0;}#sk-container-id-3 div.sk-toggleable {background-color: white;}#sk-container-id-3 label.sk-toggleable__label {cursor: pointer;display: block;width: 100%;margin-bottom: 0;padding: 0.3em;box-sizing: border-box;text-align: center;}#sk-container-id-3 label.sk-toggleable__label-arrow:before {content: \"▸\";float: left;margin-right: 0.25em;color: #696969;}#sk-container-id-3 label.sk-toggleable__label-arrow:hover:before {color: black;}#sk-container-id-3 div.sk-estimator:hover label.sk-toggleable__label-arrow:before {color: black;}#sk-container-id-3 div.sk-toggleable__content {max-height: 0;max-width: 0;overflow: hidden;text-align: left;background-color: #f0f8ff;}#sk-container-id-3 div.sk-toggleable__content pre {margin: 0.2em;color: black;border-radius: 0.25em;background-color: #f0f8ff;}#sk-container-id-3 input.sk-toggleable__control:checked~div.sk-toggleable__content {max-height: 200px;max-width: 100%;overflow: auto;}#sk-container-id-3 input.sk-toggleable__control:checked~label.sk-toggleable__label-arrow:before {content: \"▾\";}#sk-container-id-3 div.sk-estimator input.sk-toggleable__control:checked~label.sk-toggleable__label {background-color: #d4ebff;}#sk-container-id-3 div.sk-label input.sk-toggleable__control:checked~label.sk-toggleable__label {background-color: #d4ebff;}#sk-container-id-3 input.sk-hidden--visually {border: 0;clip: rect(1px 1px 1px 1px);clip: rect(1px, 1px, 1px, 1px);height: 1px;margin: -1px;overflow: hidden;padding: 0;position: absolute;width: 1px;}#sk-container-id-3 div.sk-estimator {font-family: monospace;background-color: #f0f8ff;border: 1px dotted black;border-radius: 0.25em;box-sizing: border-box;margin-bottom: 0.5em;}#sk-container-id-3 div.sk-estimator:hover {background-color: #d4ebff;}#sk-container-id-3 div.sk-parallel-item::after {content: \"\";width: 100%;border-bottom: 1px solid gray;flex-grow: 1;}#sk-container-id-3 div.sk-label:hover label.sk-toggleable__label {background-color: #d4ebff;}#sk-container-id-3 div.sk-serial::before {content: \"\";position: absolute;border-left: 1px solid gray;box-sizing: border-box;top: 0;bottom: 0;left: 50%;z-index: 0;}#sk-container-id-3 div.sk-serial {display: flex;flex-direction: column;align-items: center;background-color: white;padding-right: 0.2em;padding-left: 0.2em;position: relative;}#sk-container-id-3 div.sk-item {position: relative;z-index: 1;}#sk-container-id-3 div.sk-parallel {display: flex;align-items: stretch;justify-content: center;background-color: white;position: relative;}#sk-container-id-3 div.sk-item::before, #sk-container-id-3 div.sk-parallel-item::before {content: \"\";position: absolute;border-left: 1px solid gray;box-sizing: border-box;top: 0;bottom: 0;left: 50%;z-index: -1;}#sk-container-id-3 div.sk-parallel-item {display: flex;flex-direction: column;z-index: 1;position: relative;background-color: white;}#sk-container-id-3 div.sk-parallel-item:first-child::after {align-self: flex-end;width: 50%;}#sk-container-id-3 div.sk-parallel-item:last-child::after {align-self: flex-start;width: 50%;}#sk-container-id-3 div.sk-parallel-item:only-child::after {width: 0;}#sk-container-id-3 div.sk-dashed-wrapped {border: 1px dashed gray;margin: 0 0.4em 0.5em 0.4em;box-sizing: border-box;padding-bottom: 0.4em;background-color: white;}#sk-container-id-3 div.sk-label label {font-family: monospace;font-weight: bold;display: inline-block;line-height: 1.2em;}#sk-container-id-3 div.sk-label-container {text-align: center;}#sk-container-id-3 div.sk-container {/* jupyter's `normalize.less` sets `[hidden] { display: none; }` but bootstrap.min.css set `[hidden] { display: none !important; }` so we also need the `!important` here to be able to override the default hidden behavior on the sphinx rendered scikit-learn.org. See: https://github.com/scikit-learn/scikit-learn/issues/21755 */display: inline-block !important;position: relative;}#sk-container-id-3 div.sk-text-repr-fallback {display: none;}</style><div id=\"sk-container-id-3\" class=\"sk-top-container\"><div class=\"sk-text-repr-fallback\"><pre>SVC(kernel=&#x27;poly&#x27;, probability=True)</pre><b>In a Jupyter environment, please rerun this cell to show the HTML representation or trust the notebook. <br />On GitHub, the HTML representation is unable to render, please try loading this page with nbviewer.org.</b></div><div class=\"sk-container\" hidden><div class=\"sk-item\"><div class=\"sk-estimator sk-toggleable\"><input class=\"sk-toggleable__control sk-hidden--visually\" id=\"sk-estimator-id-3\" type=\"checkbox\" checked><label for=\"sk-estimator-id-3\" class=\"sk-toggleable__label sk-toggleable__label-arrow\">SVC</label><div class=\"sk-toggleable__content\"><pre>SVC(kernel=&#x27;poly&#x27;, probability=True)</pre></div></div></div></div></div>"
      ],
      "text/plain": [
       "SVC(kernel='poly', probability=True)"
      ]
     },
     "execution_count": 33,
     "metadata": {},
     "output_type": "execute_result"
    }
   ],
   "source": [
    "# define model\n",
    "svm_model = SVC(probability=True, kernel='poly')  \n",
    "xgb_model = xgb.XGBClassifier(objective='binary:logistic')\n",
    "\n",
    "xgb_model.fit(X_t, y_t)\n",
    "svm_model.fit(X_t, y_t)"
   ]
  },
  {
   "cell_type": "code",
   "execution_count": 34,
   "metadata": {},
   "outputs": [
    {
     "data": {
      "text/plain": [
       "0.9411764705882353"
      ]
     },
     "execution_count": 34,
     "metadata": {},
     "output_type": "execute_result"
    }
   ],
   "source": [
    "y_pred = svm_model.predict(X_val)\n",
    "accuracy_score(y_val, y_pred)"
   ]
  },
  {
   "cell_type": "code",
   "execution_count": 32,
   "metadata": {},
   "outputs": [
    {
     "data": {
      "text/plain": [
       "0.8529411764705882"
      ]
     },
     "execution_count": 32,
     "metadata": {},
     "output_type": "execute_result"
    }
   ],
   "source": [
    "y_xgb = xgb_model.predict(X_val)\n",
    "accuracy_score(y_val, y_xgb)"
   ]
  },
  {
   "cell_type": "code",
   "execution_count": 36,
   "metadata": {},
   "outputs": [],
   "source": [
    "sub_dataset = PatientDataset(\"./data/testset/\", df_ann.LABEL, sub_patients, transform) \n",
    "sub_loader = DataLoader(sub_dataset)"
   ]
  },
  {
   "cell_type": "code",
   "execution_count": 38,
   "metadata": {},
   "outputs": [],
   "source": [
    "dico = {}\n",
    "\n",
    "for i, data in enumerate(sub_loader):\n",
    "    # get inputs\n",
    "    inputs, label, pat = data\n",
    "    patient = pat[0]\n",
    "\n",
    "    X = df_ann[df_ann.index == patient].drop(\"LABEL\", axis=1).to_numpy()\n",
    "    \n",
    "    inputs = torch.squeeze(inputs, dim=0)\n",
    "\n",
    "    # compute ae ouptut and flattend\n",
    "    y = ae.encoder(inputs)\n",
    "    y_flat = torch.flatten(y, start_dim=1)\n",
    "\n",
    "    # compute mean, std and max\n",
    "    # input = torch.mean(y_flat, dim=0).detach().numpy()\n",
    "    std = torch.std(y_flat, dim=0).detach().numpy()\n",
    "    max_, _ = torch.max(y_flat, dim=0)\n",
    "    max_ = max_.detach().numpy()\n",
    "\n",
    "    conc = np.concatenate((max_, std))\n",
    "    umap_input = np.array([conc])\n",
    "    umap_output = umap_model.transform(umap_input)\n",
    "\n",
    "    svm_input = np.concatenate((umap_output, X), axis=1)\n",
    "\n",
    "    dico[patient] = svm_model.predict(svm_input)\n"
   ]
  },
  {
   "cell_type": "code",
   "execution_count": 39,
   "metadata": {},
   "outputs": [],
   "source": [
    "submission_df = pd.DataFrame()\n",
    "submission_df[\"ID\"] = dico.keys()\n",
    "submission_df[\"predicted\"] = dico.values()\n",
    "submission_df[\"predicted\"] = submission_df.predicted.astype(\"int\")\n",
    "submission_df = submission_df.set_index(\"ID\")"
   ]
  },
  {
   "cell_type": "code",
   "execution_count": 40,
   "metadata": {},
   "outputs": [
    {
     "data": {
      "text/html": [
       "<div>\n",
       "<style scoped>\n",
       "    .dataframe tbody tr th:only-of-type {\n",
       "        vertical-align: middle;\n",
       "    }\n",
       "\n",
       "    .dataframe tbody tr th {\n",
       "        vertical-align: top;\n",
       "    }\n",
       "\n",
       "    .dataframe thead th {\n",
       "        text-align: right;\n",
       "    }\n",
       "</style>\n",
       "<table border=\"1\" class=\"dataframe\">\n",
       "  <thead>\n",
       "    <tr style=\"text-align: right;\">\n",
       "      <th></th>\n",
       "      <th>predicted</th>\n",
       "    </tr>\n",
       "    <tr>\n",
       "      <th>ID</th>\n",
       "      <th></th>\n",
       "    </tr>\n",
       "  </thead>\n",
       "  <tbody>\n",
       "    <tr>\n",
       "      <th>P71</th>\n",
       "      <td>0</td>\n",
       "    </tr>\n",
       "    <tr>\n",
       "      <th>P16</th>\n",
       "      <td>1</td>\n",
       "    </tr>\n",
       "    <tr>\n",
       "      <th>P114</th>\n",
       "      <td>0</td>\n",
       "    </tr>\n",
       "    <tr>\n",
       "      <th>P170</th>\n",
       "      <td>0</td>\n",
       "    </tr>\n",
       "    <tr>\n",
       "      <th>P98</th>\n",
       "      <td>0</td>\n",
       "    </tr>\n",
       "  </tbody>\n",
       "</table>\n",
       "</div>"
      ],
      "text/plain": [
       "      predicted\n",
       "ID             \n",
       "P71           0\n",
       "P16           1\n",
       "P114          0\n",
       "P170          0\n",
       "P98           0"
      ]
     },
     "execution_count": 40,
     "metadata": {},
     "output_type": "execute_result"
    }
   ],
   "source": [
    "submission_df.head()"
   ]
  },
  {
   "cell_type": "code",
   "execution_count": 41,
   "metadata": {},
   "outputs": [],
   "source": [
    "submission_df.to_csv(\"./submissions/umap_based_v0.csv\")"
   ]
  },
  {
   "cell_type": "markdown",
   "metadata": {},
   "source": [
    "### SVM on means "
   ]
  },
  {
   "cell_type": "code",
   "execution_count": 55,
   "metadata": {},
   "outputs": [],
   "source": [
    "labels_ = [l[0][0] for l in labels]"
   ]
  },
  {
   "cell_type": "code",
   "execution_count": 203,
   "metadata": {},
   "outputs": [
    {
     "data": {
      "text/html": [
       "<style>#sk-container-id-6 {color: black;}#sk-container-id-6 pre{padding: 0;}#sk-container-id-6 div.sk-toggleable {background-color: white;}#sk-container-id-6 label.sk-toggleable__label {cursor: pointer;display: block;width: 100%;margin-bottom: 0;padding: 0.3em;box-sizing: border-box;text-align: center;}#sk-container-id-6 label.sk-toggleable__label-arrow:before {content: \"▸\";float: left;margin-right: 0.25em;color: #696969;}#sk-container-id-6 label.sk-toggleable__label-arrow:hover:before {color: black;}#sk-container-id-6 div.sk-estimator:hover label.sk-toggleable__label-arrow:before {color: black;}#sk-container-id-6 div.sk-toggleable__content {max-height: 0;max-width: 0;overflow: hidden;text-align: left;background-color: #f0f8ff;}#sk-container-id-6 div.sk-toggleable__content pre {margin: 0.2em;color: black;border-radius: 0.25em;background-color: #f0f8ff;}#sk-container-id-6 input.sk-toggleable__control:checked~div.sk-toggleable__content {max-height: 200px;max-width: 100%;overflow: auto;}#sk-container-id-6 input.sk-toggleable__control:checked~label.sk-toggleable__label-arrow:before {content: \"▾\";}#sk-container-id-6 div.sk-estimator input.sk-toggleable__control:checked~label.sk-toggleable__label {background-color: #d4ebff;}#sk-container-id-6 div.sk-label input.sk-toggleable__control:checked~label.sk-toggleable__label {background-color: #d4ebff;}#sk-container-id-6 input.sk-hidden--visually {border: 0;clip: rect(1px 1px 1px 1px);clip: rect(1px, 1px, 1px, 1px);height: 1px;margin: -1px;overflow: hidden;padding: 0;position: absolute;width: 1px;}#sk-container-id-6 div.sk-estimator {font-family: monospace;background-color: #f0f8ff;border: 1px dotted black;border-radius: 0.25em;box-sizing: border-box;margin-bottom: 0.5em;}#sk-container-id-6 div.sk-estimator:hover {background-color: #d4ebff;}#sk-container-id-6 div.sk-parallel-item::after {content: \"\";width: 100%;border-bottom: 1px solid gray;flex-grow: 1;}#sk-container-id-6 div.sk-label:hover label.sk-toggleable__label {background-color: #d4ebff;}#sk-container-id-6 div.sk-serial::before {content: \"\";position: absolute;border-left: 1px solid gray;box-sizing: border-box;top: 0;bottom: 0;left: 50%;z-index: 0;}#sk-container-id-6 div.sk-serial {display: flex;flex-direction: column;align-items: center;background-color: white;padding-right: 0.2em;padding-left: 0.2em;position: relative;}#sk-container-id-6 div.sk-item {position: relative;z-index: 1;}#sk-container-id-6 div.sk-parallel {display: flex;align-items: stretch;justify-content: center;background-color: white;position: relative;}#sk-container-id-6 div.sk-item::before, #sk-container-id-6 div.sk-parallel-item::before {content: \"\";position: absolute;border-left: 1px solid gray;box-sizing: border-box;top: 0;bottom: 0;left: 50%;z-index: -1;}#sk-container-id-6 div.sk-parallel-item {display: flex;flex-direction: column;z-index: 1;position: relative;background-color: white;}#sk-container-id-6 div.sk-parallel-item:first-child::after {align-self: flex-end;width: 50%;}#sk-container-id-6 div.sk-parallel-item:last-child::after {align-self: flex-start;width: 50%;}#sk-container-id-6 div.sk-parallel-item:only-child::after {width: 0;}#sk-container-id-6 div.sk-dashed-wrapped {border: 1px dashed gray;margin: 0 0.4em 0.5em 0.4em;box-sizing: border-box;padding-bottom: 0.4em;background-color: white;}#sk-container-id-6 div.sk-label label {font-family: monospace;font-weight: bold;display: inline-block;line-height: 1.2em;}#sk-container-id-6 div.sk-label-container {text-align: center;}#sk-container-id-6 div.sk-container {/* jupyter's `normalize.less` sets `[hidden] { display: none; }` but bootstrap.min.css set `[hidden] { display: none !important; }` so we also need the `!important` here to be able to override the default hidden behavior on the sphinx rendered scikit-learn.org. See: https://github.com/scikit-learn/scikit-learn/issues/21755 */display: inline-block !important;position: relative;}#sk-container-id-6 div.sk-text-repr-fallback {display: none;}</style><div id=\"sk-container-id-6\" class=\"sk-top-container\"><div class=\"sk-text-repr-fallback\"><pre>SVC(kernel=&#x27;linear&#x27;, probability=True)</pre><b>In a Jupyter environment, please rerun this cell to show the HTML representation or trust the notebook. <br />On GitHub, the HTML representation is unable to render, please try loading this page with nbviewer.org.</b></div><div class=\"sk-container\" hidden><div class=\"sk-item\"><div class=\"sk-estimator sk-toggleable\"><input class=\"sk-toggleable__control sk-hidden--visually\" id=\"sk-estimator-id-6\" type=\"checkbox\" checked><label for=\"sk-estimator-id-6\" class=\"sk-toggleable__label sk-toggleable__label-arrow\">SVC</label><div class=\"sk-toggleable__content\"><pre>SVC(kernel=&#x27;linear&#x27;, probability=True)</pre></div></div></div></div></div>"
      ],
      "text/plain": [
       "SVC(kernel='linear', probability=True)"
      ]
     },
     "execution_count": 203,
     "metadata": {},
     "output_type": "execute_result"
    }
   ],
   "source": [
    "# define model\n",
    "svm_model = SVC(probability=True, kernel='linear')  \n",
    "\n",
    "svm_model.fit(max_sets, labels_)\n"
   ]
  },
  {
   "cell_type": "code",
   "execution_count": 112,
   "metadata": {},
   "outputs": [
    {
     "data": {
      "text/html": [
       "<style>#sk-container-id-4 {color: black;}#sk-container-id-4 pre{padding: 0;}#sk-container-id-4 div.sk-toggleable {background-color: white;}#sk-container-id-4 label.sk-toggleable__label {cursor: pointer;display: block;width: 100%;margin-bottom: 0;padding: 0.3em;box-sizing: border-box;text-align: center;}#sk-container-id-4 label.sk-toggleable__label-arrow:before {content: \"▸\";float: left;margin-right: 0.25em;color: #696969;}#sk-container-id-4 label.sk-toggleable__label-arrow:hover:before {color: black;}#sk-container-id-4 div.sk-estimator:hover label.sk-toggleable__label-arrow:before {color: black;}#sk-container-id-4 div.sk-toggleable__content {max-height: 0;max-width: 0;overflow: hidden;text-align: left;background-color: #f0f8ff;}#sk-container-id-4 div.sk-toggleable__content pre {margin: 0.2em;color: black;border-radius: 0.25em;background-color: #f0f8ff;}#sk-container-id-4 input.sk-toggleable__control:checked~div.sk-toggleable__content {max-height: 200px;max-width: 100%;overflow: auto;}#sk-container-id-4 input.sk-toggleable__control:checked~label.sk-toggleable__label-arrow:before {content: \"▾\";}#sk-container-id-4 div.sk-estimator input.sk-toggleable__control:checked~label.sk-toggleable__label {background-color: #d4ebff;}#sk-container-id-4 div.sk-label input.sk-toggleable__control:checked~label.sk-toggleable__label {background-color: #d4ebff;}#sk-container-id-4 input.sk-hidden--visually {border: 0;clip: rect(1px 1px 1px 1px);clip: rect(1px, 1px, 1px, 1px);height: 1px;margin: -1px;overflow: hidden;padding: 0;position: absolute;width: 1px;}#sk-container-id-4 div.sk-estimator {font-family: monospace;background-color: #f0f8ff;border: 1px dotted black;border-radius: 0.25em;box-sizing: border-box;margin-bottom: 0.5em;}#sk-container-id-4 div.sk-estimator:hover {background-color: #d4ebff;}#sk-container-id-4 div.sk-parallel-item::after {content: \"\";width: 100%;border-bottom: 1px solid gray;flex-grow: 1;}#sk-container-id-4 div.sk-label:hover label.sk-toggleable__label {background-color: #d4ebff;}#sk-container-id-4 div.sk-serial::before {content: \"\";position: absolute;border-left: 1px solid gray;box-sizing: border-box;top: 0;bottom: 0;left: 50%;z-index: 0;}#sk-container-id-4 div.sk-serial {display: flex;flex-direction: column;align-items: center;background-color: white;padding-right: 0.2em;padding-left: 0.2em;position: relative;}#sk-container-id-4 div.sk-item {position: relative;z-index: 1;}#sk-container-id-4 div.sk-parallel {display: flex;align-items: stretch;justify-content: center;background-color: white;position: relative;}#sk-container-id-4 div.sk-item::before, #sk-container-id-4 div.sk-parallel-item::before {content: \"\";position: absolute;border-left: 1px solid gray;box-sizing: border-box;top: 0;bottom: 0;left: 50%;z-index: -1;}#sk-container-id-4 div.sk-parallel-item {display: flex;flex-direction: column;z-index: 1;position: relative;background-color: white;}#sk-container-id-4 div.sk-parallel-item:first-child::after {align-self: flex-end;width: 50%;}#sk-container-id-4 div.sk-parallel-item:last-child::after {align-self: flex-start;width: 50%;}#sk-container-id-4 div.sk-parallel-item:only-child::after {width: 0;}#sk-container-id-4 div.sk-dashed-wrapped {border: 1px dashed gray;margin: 0 0.4em 0.5em 0.4em;box-sizing: border-box;padding-bottom: 0.4em;background-color: white;}#sk-container-id-4 div.sk-label label {font-family: monospace;font-weight: bold;display: inline-block;line-height: 1.2em;}#sk-container-id-4 div.sk-label-container {text-align: center;}#sk-container-id-4 div.sk-container {/* jupyter's `normalize.less` sets `[hidden] { display: none; }` but bootstrap.min.css set `[hidden] { display: none !important; }` so we also need the `!important` here to be able to override the default hidden behavior on the sphinx rendered scikit-learn.org. See: https://github.com/scikit-learn/scikit-learn/issues/21755 */display: inline-block !important;position: relative;}#sk-container-id-4 div.sk-text-repr-fallback {display: none;}</style><div id=\"sk-container-id-4\" class=\"sk-top-container\"><div class=\"sk-text-repr-fallback\"><pre>GaussianNB()</pre><b>In a Jupyter environment, please rerun this cell to show the HTML representation or trust the notebook. <br />On GitHub, the HTML representation is unable to render, please try loading this page with nbviewer.org.</b></div><div class=\"sk-container\" hidden><div class=\"sk-item\"><div class=\"sk-estimator sk-toggleable\"><input class=\"sk-toggleable__control sk-hidden--visually\" id=\"sk-estimator-id-4\" type=\"checkbox\" checked><label for=\"sk-estimator-id-4\" class=\"sk-toggleable__label sk-toggleable__label-arrow\">GaussianNB</label><div class=\"sk-toggleable__content\"><pre>GaussianNB()</pre></div></div></div></div></div>"
      ],
      "text/plain": [
       "GaussianNB()"
      ]
     },
     "execution_count": 112,
     "metadata": {},
     "output_type": "execute_result"
    }
   ],
   "source": [
    "naive_model = GaussianNB()\n",
    "naive_model.fit(mean_sets, labels_)"
   ]
  },
  {
   "cell_type": "code",
   "execution_count": 88,
   "metadata": {},
   "outputs": [],
   "source": [
    "# perform test\n",
    "test_labels = df_ann[df_ann.index.isin(test_patients)].LABEL\n",
    "\n",
    "test_dataset = PatientDataset(\"./data/trainset/\", test_labels, test_patients, transform) \n",
    "test_loader = DataLoader(test_dataset)"
   ]
  },
  {
   "cell_type": "code",
   "execution_count": 135,
   "metadata": {},
   "outputs": [
    {
     "name": "stdout",
     "output_type": "stream",
     "text": [
      "[1.]\n",
      "[1.]\n",
      "[1.]\n",
      "[1.]\n",
      "[1.]\n",
      "[0.]\n",
      "[1.]\n",
      "[1.]\n",
      "[1.]\n",
      "[1.]\n",
      "[1.]\n",
      "[1.]\n",
      "[1.]\n",
      "[1.]\n",
      "[1.]\n",
      "[1.]\n",
      "[1.]\n",
      "[1.]\n",
      "[1.]\n",
      "[1.]\n",
      "[0.]\n",
      "[0.]\n",
      "[1.]\n",
      "[1.]\n",
      "[1.]\n",
      "[0.]\n",
      "[0.]\n",
      "[0.]\n",
      "0.7142857142857143\n"
     ]
    }
   ],
   "source": [
    "success = 0\n",
    "for i, data in enumerate(test_loader):\n",
    "    # get inputs\n",
    "    inputs, label, _ = data\n",
    "    inputs = torch.squeeze(inputs, dim=0)\n",
    "\n",
    "    # compute ae ouptut and flattend\n",
    "    y = ae.encoder(inputs)\n",
    "    y_flat = torch.flatten(y, start_dim=1)\n",
    "\n",
    "    # compute mean, std and max\n",
    "    # input = torch.mean(y_flat, dim=0).detach().numpy()\n",
    "    max_, _ = torch.max(y_flat, dim=0)\n",
    "    input = max_.detach().numpy()\n",
    "    input = np.array([input])\n",
    "\n",
    "    svm_pred = svm_model.predict(input)\n",
    "    print(svm_pred)\n",
    "    if svm_pred == label.numpy()[0][0]:\n",
    "        success += 1\n",
    "\n",
    "print(success / len(test_loader))"
   ]
  },
  {
   "cell_type": "markdown",
   "metadata": {},
   "source": [
    "## Naive Bayes"
   ]
  },
  {
   "cell_type": "code",
   "execution_count": 67,
   "metadata": {},
   "outputs": [],
   "source": [
    "df_ann_train = df_ann[df_ann.index.isin(train_patients)]\n",
    "df_ann_test = df_ann[df_ann.index.isin(test_patients)]\n",
    "\n",
    "y_train = df_ann_train.LABEL.to_numpy()\n",
    "X_train = df_ann_train.drop(\"LABEL\", axis=1).to_numpy()\n",
    "\n",
    "y_test = df_ann_test.LABEL.to_numpy()\n",
    "X_test = df_ann_test.drop(\"LABEL\", axis=1).to_numpy()"
   ]
  },
  {
   "cell_type": "code",
   "execution_count": 68,
   "metadata": {},
   "outputs": [
    {
     "data": {
      "text/html": [
       "<style>#sk-container-id-2 {color: black;}#sk-container-id-2 pre{padding: 0;}#sk-container-id-2 div.sk-toggleable {background-color: white;}#sk-container-id-2 label.sk-toggleable__label {cursor: pointer;display: block;width: 100%;margin-bottom: 0;padding: 0.3em;box-sizing: border-box;text-align: center;}#sk-container-id-2 label.sk-toggleable__label-arrow:before {content: \"▸\";float: left;margin-right: 0.25em;color: #696969;}#sk-container-id-2 label.sk-toggleable__label-arrow:hover:before {color: black;}#sk-container-id-2 div.sk-estimator:hover label.sk-toggleable__label-arrow:before {color: black;}#sk-container-id-2 div.sk-toggleable__content {max-height: 0;max-width: 0;overflow: hidden;text-align: left;background-color: #f0f8ff;}#sk-container-id-2 div.sk-toggleable__content pre {margin: 0.2em;color: black;border-radius: 0.25em;background-color: #f0f8ff;}#sk-container-id-2 input.sk-toggleable__control:checked~div.sk-toggleable__content {max-height: 200px;max-width: 100%;overflow: auto;}#sk-container-id-2 input.sk-toggleable__control:checked~label.sk-toggleable__label-arrow:before {content: \"▾\";}#sk-container-id-2 div.sk-estimator input.sk-toggleable__control:checked~label.sk-toggleable__label {background-color: #d4ebff;}#sk-container-id-2 div.sk-label input.sk-toggleable__control:checked~label.sk-toggleable__label {background-color: #d4ebff;}#sk-container-id-2 input.sk-hidden--visually {border: 0;clip: rect(1px 1px 1px 1px);clip: rect(1px, 1px, 1px, 1px);height: 1px;margin: -1px;overflow: hidden;padding: 0;position: absolute;width: 1px;}#sk-container-id-2 div.sk-estimator {font-family: monospace;background-color: #f0f8ff;border: 1px dotted black;border-radius: 0.25em;box-sizing: border-box;margin-bottom: 0.5em;}#sk-container-id-2 div.sk-estimator:hover {background-color: #d4ebff;}#sk-container-id-2 div.sk-parallel-item::after {content: \"\";width: 100%;border-bottom: 1px solid gray;flex-grow: 1;}#sk-container-id-2 div.sk-label:hover label.sk-toggleable__label {background-color: #d4ebff;}#sk-container-id-2 div.sk-serial::before {content: \"\";position: absolute;border-left: 1px solid gray;box-sizing: border-box;top: 0;bottom: 0;left: 50%;z-index: 0;}#sk-container-id-2 div.sk-serial {display: flex;flex-direction: column;align-items: center;background-color: white;padding-right: 0.2em;padding-left: 0.2em;position: relative;}#sk-container-id-2 div.sk-item {position: relative;z-index: 1;}#sk-container-id-2 div.sk-parallel {display: flex;align-items: stretch;justify-content: center;background-color: white;position: relative;}#sk-container-id-2 div.sk-item::before, #sk-container-id-2 div.sk-parallel-item::before {content: \"\";position: absolute;border-left: 1px solid gray;box-sizing: border-box;top: 0;bottom: 0;left: 50%;z-index: -1;}#sk-container-id-2 div.sk-parallel-item {display: flex;flex-direction: column;z-index: 1;position: relative;background-color: white;}#sk-container-id-2 div.sk-parallel-item:first-child::after {align-self: flex-end;width: 50%;}#sk-container-id-2 div.sk-parallel-item:last-child::after {align-self: flex-start;width: 50%;}#sk-container-id-2 div.sk-parallel-item:only-child::after {width: 0;}#sk-container-id-2 div.sk-dashed-wrapped {border: 1px dashed gray;margin: 0 0.4em 0.5em 0.4em;box-sizing: border-box;padding-bottom: 0.4em;background-color: white;}#sk-container-id-2 div.sk-label label {font-family: monospace;font-weight: bold;display: inline-block;line-height: 1.2em;}#sk-container-id-2 div.sk-label-container {text-align: center;}#sk-container-id-2 div.sk-container {/* jupyter's `normalize.less` sets `[hidden] { display: none; }` but bootstrap.min.css set `[hidden] { display: none !important; }` so we also need the `!important` here to be able to override the default hidden behavior on the sphinx rendered scikit-learn.org. See: https://github.com/scikit-learn/scikit-learn/issues/21755 */display: inline-block !important;position: relative;}#sk-container-id-2 div.sk-text-repr-fallback {display: none;}</style><div id=\"sk-container-id-2\" class=\"sk-top-container\"><div class=\"sk-text-repr-fallback\"><pre>GaussianNB()</pre><b>In a Jupyter environment, please rerun this cell to show the HTML representation or trust the notebook. <br />On GitHub, the HTML representation is unable to render, please try loading this page with nbviewer.org.</b></div><div class=\"sk-container\" hidden><div class=\"sk-item\"><div class=\"sk-estimator sk-toggleable\"><input class=\"sk-toggleable__control sk-hidden--visually\" id=\"sk-estimator-id-2\" type=\"checkbox\" checked><label for=\"sk-estimator-id-2\" class=\"sk-toggleable__label sk-toggleable__label-arrow\">GaussianNB</label><div class=\"sk-toggleable__content\"><pre>GaussianNB()</pre></div></div></div></div></div>"
      ],
      "text/plain": [
       "GaussianNB()"
      ]
     },
     "execution_count": 68,
     "metadata": {},
     "output_type": "execute_result"
    }
   ],
   "source": [
    "# Initialize Naive Bayes classifier\n",
    "nb_classifier = GaussianNB()\n",
    "\n",
    "# Train the classifier\n",
    "nb_classifier.fit(X_train, y_train)"
   ]
  },
  {
   "cell_type": "code",
   "execution_count": 74,
   "metadata": {},
   "outputs": [
    {
     "data": {
      "image/png": "[encoded data removed]",
      "text/plain": [
       "<Figure size 800x600 with 2 Axes>"
      ]
     },
     "metadata": {},
     "output_type": "display_data"
    }
   ],
   "source": [
    "y_pred = nb_classifier.predict(X_test)\n",
    "conf_matrix = confusion_matrix(y_pred, y_test)\n",
    "\n",
    "plt.figure(figsize=(8, 6))\n",
    "sns.heatmap(conf_matrix, annot=True, fmt='d', cmap='Blues', xticklabels=np.unique(y_test), yticklabels=np.unique(y_test))\n",
    "plt.xlabel('Predicted labels')\n",
    "plt.ylabel('True labels')\n",
    "plt.title('Confusion Matrix')\n",
    "plt.show()"
   ]
  },
  {
   "cell_type": "code",
   "execution_count": 85,
   "metadata": {},
   "outputs": [
    {
     "data": {
      "text/plain": [
       "(array([1, 1, 1, 1, 1, 0, 1, 1, 1, 0, 1, 0, 1, 0, 1, 1, 1, 0, 1, 0, 0, 0,\n",
       "        1, 1, 0, 0, 0, 0], dtype=int64),\n",
       " array([9.99744431e-01, 1.00000000e+00, 1.00000000e+00, 5.11248383e-01,\n",
       "        1.00000000e+00, 7.63447598e-02, 1.00000000e+00, 1.00000000e+00,\n",
       "        1.00000000e+00, 1.37681017e-01, 9.99999997e-01, 1.69614081e-01,\n",
       "        1.00000000e+00, 7.39164531e-02, 5.66746700e-01, 1.00000000e+00,\n",
       "        1.00000000e+00, 1.92845183e-01, 8.77759345e-01, 2.46493930e-01,\n",
       "        1.65098417e-01, 1.36690362e-02, 1.00000000e+00, 9.87430871e-01,\n",
       "        1.21044612e-01, 9.70173252e-05, 6.92627601e-02, 3.30973075e-02]),\n",
       " array([1, 1, 1, 1, 1, 1, 1, 1, 1, 1, 1, 0, 1, 1, 1, 1, 1, 1, 1, 1, 0, 0,\n",
       "        1, 1, 0, 0, 0, 1], dtype=int64))"
      ]
     },
     "execution_count": 85,
     "metadata": {},
     "output_type": "execute_result"
    }
   ],
   "source": [
    "y_proba = nb_classifier.predict_proba(X_test)[:, 1]\n",
    "y_pred, y_proba, y_test"
   ]
  },
  {
   "cell_type": "code",
   "execution_count": 208,
   "metadata": {},
   "outputs": [],
   "source": [
    "y_pred = []\n",
    "label_ann = []\n",
    "label_loader = []\n",
    "\n",
    "for i, data in enumerate(test_loader):\n",
    "    # get inputs\n",
    "    inputs, label, pat = data\n",
    "    patient = pat[0]\n",
    "    label_loader.append(label)\n",
    "    label_ann.append(df_ann[df_ann.index == patient].LABEL.to_numpy())\n",
    "    X = df_ann[df_ann.index == patient].drop(\"LABEL\", axis=1).to_numpy()\n",
    "    nb_pred = nb_classifier.predict_proba(X)[0, 1]\n",
    " \n",
    "    inputs = torch.squeeze(inputs, dim=0)\n",
    "\n",
    "    # compute ae ouptut and flattend\n",
    "    y = ae.encoder(inputs)\n",
    "    y_flat = torch.flatten(y, start_dim=1)\n",
    "\n",
    "    # compute mean, std and max\n",
    "    # input = torch.mean(y_flat, dim=0).detach().numpy()\n",
    "    max_, _ = torch.max(y_flat, dim=0)\n",
    "    input = max_.detach().numpy()\n",
    "    input = np.array([input])\n",
    "\n",
    "    svm_pred = svm_model.predict_proba(input)[0, 1]\n",
    "    y_pred.append(0.5*(svm_pred + nb_pred))\n"
   ]
  },
  {
   "cell_type": "code",
   "execution_count": 216,
   "metadata": {},
   "outputs": [
    {
     "data": {
      "text/plain": [
       "0.5714285714285714"
      ]
     },
     "execution_count": 216,
     "metadata": {},
     "output_type": "execute_result"
    }
   ],
   "source": [
    "accuracy_score(y_pred >= 0.5, y_test)"
   ]
  },
  {
   "cell_type": "code",
   "execution_count": 140,
   "metadata": {},
   "outputs": [],
   "source": [
    "sub_dataset = PatientDataset(\"./data/testset/\", df_ann.LABEL, sub_patients, transform) \n",
    "sub_loader = DataLoader(sub_dataset)"
   ]
  },
  {
   "cell_type": "code",
   "execution_count": 204,
   "metadata": {},
   "outputs": [],
   "source": [
    "dico = {}\n",
    "\n",
    "for i, data in enumerate(sub_loader):\n",
    "    # get inputs\n",
    "    inputs, label, pat = data\n",
    "    patient = pat[0]\n",
    "\n",
    "    X = df_ann[df_ann.index == patient].drop(\"LABEL\", axis=1).to_numpy()\n",
    "    nb_pred = nb_classifier.predict_proba(X)\n",
    "    dico[patient] = nb_pred\n",
    "    \n",
    "    inputs = torch.squeeze(inputs, dim=0)\n",
    "\n",
    "    # compute ae ouptut and flattend\n",
    "    y = ae.encoder(inputs)\n",
    "    y_flat = torch.flatten(y, start_dim=1)\n",
    "\n",
    "    # compute mean, std and max\n",
    "    # input = torch.mean(y_flat, dim=0).detach().numpy()\n",
    "    max_, _ = torch.max(y_flat, dim=0)\n",
    "    input = max_.detach().numpy()\n",
    "    input = np.array([input])\n",
    "\n",
    "    dico[patient] += svm_model.predict_proba(input)[0]\n"
   ]
  },
  {
   "cell_type": "code",
   "execution_count": 206,
   "metadata": {},
   "outputs": [
    {
     "ename": "NameError",
     "evalue": "name 'dico_patient' is not defined",
     "output_type": "error",
     "traceback": [
      "\u001b[1;31m---------------------------------------------------------------------------\u001b[0m",
      "\u001b[1;31mNameError\u001b[0m                                 Traceback (most recent call last)",
      "Cell \u001b[1;32mIn[206], line 1\u001b[0m\n\u001b[1;32m----> 1\u001b[0m \u001b[43mdico_patient\u001b[49m\n",
      "\u001b[1;31mNameError\u001b[0m: name 'dico_patient' is not defined"
     ]
    }
   ],
   "source": [
    "dico_patient"
   ]
  },
  {
   "cell_type": "code",
   "execution_count": 152,
   "metadata": {},
   "outputs": [],
   "source": [
    "submission_df = pd.DataFrame()\n",
    "submission_df[\"ID\"] = dico.keys()\n",
    "submission_df[\"predicted\"] = dico.values()\n",
    "submission_df[\"predicted\"] = submission_df.predicted.astype(\"int\")\n",
    "submission_df = submission_df.set_index(\"ID\")"
   ]
  },
  {
   "cell_type": "code",
   "execution_count": 153,
   "metadata": {},
   "outputs": [
    {
     "data": {
      "text/html": [
       "<div>\n",
       "<style scoped>\n",
       "    .dataframe tbody tr th:only-of-type {\n",
       "        vertical-align: middle;\n",
       "    }\n",
       "\n",
       "    .dataframe tbody tr th {\n",
       "        vertical-align: top;\n",
       "    }\n",
       "\n",
       "    .dataframe thead th {\n",
       "        text-align: right;\n",
       "    }\n",
       "</style>\n",
       "<table border=\"1\" class=\"dataframe\">\n",
       "  <thead>\n",
       "    <tr style=\"text-align: right;\">\n",
       "      <th></th>\n",
       "      <th>predicted</th>\n",
       "    </tr>\n",
       "    <tr>\n",
       "      <th>ID</th>\n",
       "      <th></th>\n",
       "    </tr>\n",
       "  </thead>\n",
       "  <tbody>\n",
       "    <tr>\n",
       "      <th>P71</th>\n",
       "      <td>1</td>\n",
       "    </tr>\n",
       "    <tr>\n",
       "      <th>P16</th>\n",
       "      <td>1</td>\n",
       "    </tr>\n",
       "    <tr>\n",
       "      <th>P114</th>\n",
       "      <td>1</td>\n",
       "    </tr>\n",
       "    <tr>\n",
       "      <th>P170</th>\n",
       "      <td>1</td>\n",
       "    </tr>\n",
       "    <tr>\n",
       "      <th>P98</th>\n",
       "      <td>0</td>\n",
       "    </tr>\n",
       "  </tbody>\n",
       "</table>\n",
       "</div>"
      ],
      "text/plain": [
       "      predicted\n",
       "ID             \n",
       "P71           1\n",
       "P16           1\n",
       "P114          1\n",
       "P170          1\n",
       "P98           0"
      ]
     },
     "execution_count": 153,
     "metadata": {},
     "output_type": "execute_result"
    }
   ],
   "source": [
    "submission_df.head()"
   ]
  },
  {
   "cell_type": "code",
   "execution_count": 154,
   "metadata": {},
   "outputs": [],
   "source": [
    "submission_df.to_csv(\"./submissions/ensemble_v0.csv\")"
   ]
  },
  {
   "cell_type": "code",
   "execution_count": 159,
   "metadata": {},
   "outputs": [
    {
     "data": {
      "text/plain": [
       "array([[  1.  ,  11.2 ,  91.  ],\n",
       "       [  1.  ,  12.8 ,  82.  ],\n",
       "       [  0.  ,  11.6 ,  93.  ],\n",
       "       [  0.  ,   6.3 ,  27.  ],\n",
       "       [  0.  , 220.  ,  92.  ],\n",
       "       [  1.  , 211.  ,  82.  ],\n",
       "       [  1.  ,   5.3 ,  77.  ],\n",
       "       [  0.  ,  18.2 ,  89.  ],\n",
       "       [  1.  , 180.  ,  83.  ],\n",
       "       [  0.  ,   6.47,  94.  ],\n",
       "       [  1.  ,  10.1 ,  78.  ],\n",
       "       [  1.  , 295.  ,  95.  ],\n",
       "       [  0.  , 130.  ,  72.  ],\n",
       "       [  1.  ,  31.11,  64.  ],\n",
       "       [  0.  ,   5.98,  94.  ],\n",
       "       [  0.  ,  65.93,  91.  ],\n",
       "       [  0.  ,   9.86,  73.  ],\n",
       "       [  1.  ,  17.4 ,  66.  ],\n",
       "       [  1.  ,  39.84,  76.  ],\n",
       "       [  0.  ,   6.49,  59.  ],\n",
       "       [  1.  ,   6.41,  72.  ],\n",
       "       [  1.  ,  24.08,  89.  ],\n",
       "       [  0.  ,   8.54,  89.  ],\n",
       "       [  0.  ,  28.4 ,  61.  ],\n",
       "       [  1.  ,  13.59,  82.  ],\n",
       "       [  1.  ,  12.43,  70.  ],\n",
       "       [  1.  , 118.5 ,  61.  ],\n",
       "       [  1.  ,  11.56,  63.  ],\n",
       "       [  1.  ,   6.41,  37.  ],\n",
       "       [  1.  ,   5.29,  81.  ],\n",
       "       [  0.  ,  24.64,  72.  ],\n",
       "       [  0.  ,   5.26,  75.  ],\n",
       "       [  0.  ,   8.46,  88.  ],\n",
       "       [  0.  ,   3.94,  90.  ],\n",
       "       [  1.  ,  11.59,  80.  ],\n",
       "       [  0.  , 138.24,  65.  ],\n",
       "       [  1.  ,  11.97,  79.  ],\n",
       "       [  0.  , 164.91,  71.  ],\n",
       "       [  1.  ,   4.24,  70.  ],\n",
       "       [  0.  ,   4.72,  47.  ],\n",
       "       [  1.  ,  10.65,  82.  ],\n",
       "       [  1.  ,  20.27,  76.  ],\n",
       "       [  0.  ,  15.25,  91.  ],\n",
       "       [  0.  ,   7.85,  72.  ],\n",
       "       [  0.  ,  39.39,  80.  ],\n",
       "       [  1.  ,   5.17,  64.  ],\n",
       "       [  0.  ,   4.98,  70.  ],\n",
       "       [  1.  ,  28.63,  90.  ],\n",
       "       [  0.  ,  58.95,  89.  ],\n",
       "       [  0.  ,  84.88,  99.  ],\n",
       "       [  1.  ,   6.56,  62.  ],\n",
       "       [  1.  ,  87.93,  87.  ],\n",
       "       [  0.  ,  35.38,  73.  ],\n",
       "       [  0.  ,   6.31,  89.  ],\n",
       "       [  1.  ,  15.2 ,  93.  ],\n",
       "       [  1.  ,   6.75,  69.  ],\n",
       "       [  1.  ,  22.38,  37.  ],\n",
       "       [  0.  ,  11.36,  72.  ],\n",
       "       [  0.  ,   4.13,  55.  ],\n",
       "       [  1.  ,  11.61,  73.  ],\n",
       "       [  0.  ,   9.63,  90.  ],\n",
       "       [  0.  ,   8.5 ,  86.  ],\n",
       "       [  1.  ,   4.42,  75.  ],\n",
       "       [  0.  ,   5.61,  83.  ],\n",
       "       [  0.  ,  30.83,  93.  ],\n",
       "       [  0.  ,  72.56,  73.  ],\n",
       "       [  1.  ,   2.28,  96.  ],\n",
       "       [  0.  ,   7.81,  53.  ],\n",
       "       [  0.  ,  24.78,  92.  ],\n",
       "       [  1.  ,  12.71,  77.  ],\n",
       "       [  1.  ,  13.43,  72.  ],\n",
       "       [  1.  ,   7.92,  80.  ],\n",
       "       [  1.  ,  39.6 ,  66.  ],\n",
       "       [  1.  ,   6.08,  56.  ],\n",
       "       [  0.  , 175.71,  61.  ],\n",
       "       [  0.  , 144.48,  90.  ],\n",
       "       [  0.  ,   4.79,  78.  ],\n",
       "       [  1.  ,   4.25,  57.  ],\n",
       "       [  0.  ,   4.51,  66.  ],\n",
       "       [  1.  ,   6.94,  55.  ],\n",
       "       [  1.  ,  10.42,  88.  ],\n",
       "       [  0.  ,   4.28,  41.  ],\n",
       "       [  0.  ,   4.13,  32.  ],\n",
       "       [  0.  ,   5.04,  88.  ],\n",
       "       [  0.  ,   4.22,  97.  ],\n",
       "       [  1.  ,   4.45,  65.  ],\n",
       "       [  0.  , 137.79,  62.  ],\n",
       "       [  0.  ,  23.8 ,  88.  ],\n",
       "       [  1.  ,  13.65,  91.  ],\n",
       "       [  1.  ,   5.79,  26.  ],\n",
       "       [  0.  ,   4.46,  43.  ],\n",
       "       [  0.  ,   4.07,  53.  ],\n",
       "       [  0.  ,  17.9 ,  78.  ],\n",
       "       [  0.  ,  58.7 , 103.  ],\n",
       "       [  1.  ,   4.28,  65.  ],\n",
       "       [  0.  ,   5.56,  81.  ],\n",
       "       [  1.  ,   4.19,  71.  ],\n",
       "       [  0.  ,   4.01,  41.  ],\n",
       "       [  1.  ,   4.23,  41.  ],\n",
       "       [  1.  ,   4.1 ,  31.  ],\n",
       "       [  0.  ,   5.38,  92.  ],\n",
       "       [  1.  ,  26.33,  72.  ],\n",
       "       [  1.  ,   7.5 ,  46.  ],\n",
       "       [  0.  , 102.83,  85.  ],\n",
       "       [  0.  ,   4.34,  53.  ],\n",
       "       [  0.  ,  19.22,  80.  ],\n",
       "       [  1.  ,   4.48,  83.  ],\n",
       "       [  0.  ,   5.53, 100.  ],\n",
       "       [  1.  ,  21.27,  71.  ],\n",
       "       [  1.  ,   5.52,  92.  ],\n",
       "       [  1.  ,   8.73,  73.  ],\n",
       "       [  1.  ,  12.04,  79.  ],\n",
       "       [  1.  ,  43.64,  80.  ],\n",
       "       [  1.  ,   5.93,  43.  ],\n",
       "       [  1.  ,   6.53,  85.  ],\n",
       "       [  1.  ,   4.43,  81.  ],\n",
       "       [  1.  ,   4.5 ,  47.  ],\n",
       "       [  0.  ,   4.34,  84.  ],\n",
       "       [  1.  ,   4.08,  60.  ],\n",
       "       [  1.  ,   5.19,  76.  ],\n",
       "       [  0.  ,   4.71,  40.  ],\n",
       "       [  0.  ,   7.68,  79.  ],\n",
       "       [  0.  ,   4.25,  78.  ],\n",
       "       [  1.  ,   4.02,  54.  ],\n",
       "       [  0.  ,   5.2 ,  27.  ],\n",
       "       [  0.  ,   4.21,  34.  ],\n",
       "       [  1.  ,   7.57,  63.  ],\n",
       "       [  1.  ,   4.89,  65.  ],\n",
       "       [  1.  ,   5.58,  70.  ],\n",
       "       [  1.  ,   6.45,  79.  ],\n",
       "       [  1.  ,   9.45,  73.  ],\n",
       "       [  1.  ,   4.91,  49.  ],\n",
       "       [  0.  ,   4.17,  81.  ],\n",
       "       [  1.  ,   5.66,  37.  ],\n",
       "       [  0.  ,   6.42,  31.  ]])"
      ]
     },
     "execution_count": 159,
     "metadata": {},
     "output_type": "execute_result"
    }
   ],
   "source": [
    "df_ann_train[['LYMPH_COUNT', 'age']].to_numpy()\n"
   ]
  },
  {
   "cell_type": "code",
   "execution_count": 200,
   "metadata": {},
   "outputs": [],
   "source": [
    "# Initialize UMAP with desired parameters\n",
    "umap_model = umap.UMAP(min_dist=0.1, metric=\"manhattan\")\n",
    "tab_data = df_ann_train[['LYMPH_COUNT', 'age']].to_numpy()\n",
    "\n",
    "concatenated_array = np.concatenate((max_sets, std_sets), axis=1)\n",
    "# Fit UMAP to your data and transform it to 2D\n",
    "umap_result = umap_model.fit_transform(concatenated_array)"
   ]
  },
  {
   "cell_type": "code",
   "execution_count": 161,
   "metadata": {},
   "outputs": [
    {
     "data": {
      "text/plain": [
       "(135, 27227)"
      ]
     },
     "execution_count": 161,
     "metadata": {},
     "output_type": "execute_result"
    }
   ],
   "source": [
    "concatenated_array.shape"
   ]
  },
  {
   "cell_type": "code",
   "execution_count": 201,
   "metadata": {},
   "outputs": [
    {
     "data": {
      "image/png": "[encoded data removed]",
      "text/plain": [
       "<Figure size 700x700 with 1 Axes>"
      ]
     },
     "metadata": {},
     "output_type": "display_data"
    }
   ],
   "source": [
    "plt.figure(figsize=(7, 7))\n",
    "\n",
    "plt.scatter(umap_result[[i for i, val in enumerate(labels_) if val==0.], 0], \n",
    "            umap_result[[i for i, val in enumerate(labels_) if val==0.], 1], \n",
    "            marker='o', s=10, color=\"green\")\n",
    "\n",
    "plt.scatter(umap_result[[i for i, val in enumerate(labels_) if val==1.], 0], \n",
    "            umap_result[[i for i, val in enumerate(labels_) if val==1.], 1], \n",
    "            marker='o', s=10, color=\"red\")\n",
    "\n",
    "plt.title('UMAP Visualization of Train images')\n",
    "plt.xlabel('UMAP Dimension 1')\n",
    "plt.ylabel('UMAP Dimension 2')\n",
    "plt.show()"
   ]
  },
  {
   "cell_type": "code",
   "execution_count": 168,
   "metadata": {},
   "outputs": [],
   "source": [
    "from models.DeepSets import DeepSets"
   ]
  },
  {
   "cell_type": "code",
   "execution_count": 169,
   "metadata": {},
   "outputs": [],
   "source": [
    "deep_model = DeepSets(55*55*3, 128, 1)"
   ]
  },
  {
   "cell_type": "code",
   "execution_count": 173,
   "metadata": {},
   "outputs": [],
   "source": [
    "data = [(all_flatten_sets[i], labels_[i]) for i in range(len(labels_))]\n",
    "data = [(torch.tensor(x, dtype=torch.float32), torch.tensor([y], dtype=torch.float32)) for x, y in data]\n",
    "deep_train_loader = DataLoader(data, shuffle=False)"
   ]
  },
  {
   "cell_type": "code",
   "execution_count": 179,
   "metadata": {},
   "outputs": [
    {
     "name": "stdout",
     "output_type": "stream",
     "text": [
      "Epoch 1/100, Loss: 0.6407129452184395\n",
      "Epoch 2/100, Loss: 0.6315712747750459\n",
      "Epoch 3/100, Loss: 0.6315562376269588\n",
      "Epoch 4/100, Loss: 0.631543023718728\n",
      "Epoch 5/100, Loss: 0.6315314160452948\n",
      "Epoch 6/100, Loss: 0.6315212426362214\n",
      "Epoch 7/100, Loss: 0.6315123551421695\n",
      "Epoch 8/100, Loss: 0.6315046116157814\n",
      "Epoch 9/100, Loss: 0.6314978661360564\n",
      "Epoch 10/100, Loss: 0.6314919767556367\n",
      "Epoch 11/100, Loss: 0.6314868534052813\n",
      "Epoch 12/100, Loss: 0.6314824038081699\n",
      "Epoch 13/100, Loss: 0.6314785299477754\n",
      "Epoch 14/100, Loss: 0.6314751713364213\n",
      "Epoch 15/100, Loss: 0.6314722447483628\n",
      "Epoch 16/100, Loss: 0.6314697111094439\n",
      "Epoch 17/100, Loss: 0.6314675298002032\n",
      "Epoch 18/100, Loss: 0.631465627529003\n",
      "Epoch 19/100, Loss: 0.6314639976731053\n",
      "Epoch 20/100, Loss: 0.6314625793033176\n",
      "Epoch 21/100, Loss: 0.6314613710950923\n",
      "Epoch 22/100, Loss: 0.6314603196250068\n",
      "Epoch 23/100, Loss: 0.6314594279836725\n",
      "Epoch 24/100, Loss: 0.6314586672517989\n",
      "Epoch 25/100, Loss: 0.6314580067440315\n",
      "Epoch 26/100, Loss: 0.6314574438112753\n",
      "Epoch 27/100, Loss: 0.6314569819856573\n",
      "Epoch 28/100, Loss: 0.6314565863874223\n",
      "Epoch 29/100, Loss: 0.6314562625355191\n",
      "Epoch 30/100, Loss: 0.6314559947561335\n",
      "Epoch 31/100, Loss: 0.6314557530261852\n",
      "Epoch 32/100, Loss: 0.6314555669272387\n",
      "Epoch 33/100, Loss: 0.6314554090853091\n",
      "Epoch 34/100, Loss: 0.6314552870061663\n",
      "Epoch 35/100, Loss: 0.6314551786140159\n",
      "Epoch 36/100, Loss: 0.6314551055431366\n",
      "Epoch 37/100, Loss: 0.6314550439516703\n",
      "Epoch 38/100, Loss: 0.6314550190060227\n",
      "Epoch 39/100, Loss: 0.6314549852300573\n",
      "Epoch 40/100, Loss: 0.6314549693354854\n",
      "Epoch 41/100, Loss: 0.631454962712747\n",
      "Epoch 42/100, Loss: 0.631454959401378\n",
      "Epoch 43/100, Loss: 0.6314549722053386\n",
      "Epoch 44/100, Loss: 0.6314549889829424\n",
      "Epoch 45/100, Loss: 0.6314550115002526\n",
      "Epoch 46/100, Loss: 0.6314550300439199\n",
      "Epoch 47/100, Loss: 0.6314550397572694\n",
      "Epoch 48/100, Loss: 0.6314550675727703\n",
      "Epoch 49/100, Loss: 0.6314551017902515\n",
      "Epoch 50/100, Loss: 0.6314551280604468\n",
      "Epoch 51/100, Loss: 0.6314551591873169\n",
      "Epoch 52/100, Loss: 0.6314551841329645\n",
      "Epoch 53/100, Loss: 0.631455205546485\n",
      "Epoch 54/100, Loss: 0.6314552545547485\n",
      "Epoch 55/100, Loss: 0.6314552618397606\n",
      "Epoch 56/100, Loss: 0.6314552998101269\n",
      "Epoch 57/100, Loss: 0.6314553203406157\n",
      "Epoch 58/100, Loss: 0.631455350363696\n",
      "Epoch 59/100, Loss: 0.6314553823735979\n",
      "Epoch 60/100, Loss: 0.6314553909831577\n",
      "Epoch 61/100, Loss: 0.6314554274082184\n",
      "Epoch 62/100, Loss: 0.6314554532368978\n",
      "Epoch 63/100, Loss: 0.6314554647163109\n",
      "Epoch 64/100, Loss: 0.6314555018036454\n",
      "Epoch 65/100, Loss: 0.6314555068810781\n",
      "Epoch 66/100, Loss: 0.6314555298399043\n",
      "Epoch 67/100, Loss: 0.631455554344036\n",
      "Epoch 68/100, Loss: 0.6314555715631556\n",
      "Epoch 69/100, Loss: 0.6314555874577275\n",
      "Epoch 70/100, Loss: 0.6314555980541088\n",
      "Epoch 71/100, Loss: 0.6314556227789985\n",
      "Epoch 72/100, Loss: 0.6314556296224947\n",
      "Epoch 73/100, Loss: 0.6314556461793405\n",
      "Epoch 74/100, Loss: 0.6314556552304162\n",
      "Epoch 75/100, Loss: 0.6314556753193891\n",
      "Epoch 76/100, Loss: 0.6314556876818339\n",
      "Epoch 77/100, Loss: 0.6314557018103423\n",
      "Epoch 78/100, Loss: 0.6314557113029339\n",
      "Epoch 79/100, Loss: 0.6314557124067236\n",
      "Epoch 80/100, Loss: 0.631455722782347\n",
      "Epoch 81/100, Loss: 0.6314557278597797\n",
      "Epoch 82/100, Loss: 0.6314557486110264\n",
      "Epoch 83/100, Loss: 0.6314557543507329\n",
      "Epoch 84/100, Loss: 0.6314557645055983\n",
      "Epoch 85/100, Loss: 0.6314557724528842\n",
      "Epoch 86/100, Loss: 0.6314557766472851\n",
      "Epoch 87/100, Loss: 0.6314557744397058\n",
      "Epoch 88/100, Loss: 0.631455785477603\n",
      "Epoch 89/100, Loss: 0.6314557894512459\n",
      "Epoch 90/100, Loss: 0.6314557996061113\n",
      "Epoch 91/100, Loss: 0.6314558004891431\n",
      "Epoch 92/100, Loss: 0.6314557996061113\n",
      "Epoch 93/100, Loss: 0.6314558038005122\n",
      "Epoch 94/100, Loss: 0.6314558057873337\n",
      "Epoch 95/100, Loss: 0.6314558082156712\n",
      "Epoch 96/100, Loss: 0.631455828304644\n",
      "Epoch 97/100, Loss: 0.6314558256555487\n",
      "Epoch 98/100, Loss: 0.631455828304644\n",
      "Epoch 99/100, Loss: 0.6314558207988739\n",
      "Epoch 100/100, Loss: 0.6314558322782869\n"
     ]
    }
   ],
   "source": [
    "nb_epochs = 100\n",
    "criterion = torch.nn.BCELoss()\n",
    "optimizer = torch.optim.Adam(deep_model.parameters(), lr=0.001)\n",
    "\n",
    "for epoch in range(nb_epochs):\n",
    "    running_loss = 0.0\n",
    "    for batch in deep_train_loader:\n",
    "        inputs, labels = batch\n",
    "        \n",
    "        # Zero the parameter gradients\n",
    "        optimizer.zero_grad()\n",
    "        \n",
    "        # Forward pass\n",
    "        outputs = deep_model(inputs)\n",
    "        \n",
    "        # Compute the loss\n",
    "        loss = criterion(outputs, labels)\n",
    "        \n",
    "        # Backward pass\n",
    "        loss.backward()\n",
    "        \n",
    "        # Optimize\n",
    "        optimizer.step()\n",
    "        \n",
    "        running_loss += loss.item()\n",
    "    \n",
    "    print(f\"Epoch {epoch+1}/{nb_epochs}, Loss: {running_loss / len(loader)}\")\n"
   ]
  }
 ],
 "metadata": {
  "kernelspec": {
   "display_name": "ml_b",
   "language": "python",
   "name": "python3"
  },
  "language_info": {
   "codemirror_mode": {
    "name": "ipython",
    "version": 3
   },
   "file_extension": ".py",
   "mimetype": "text/x-python",
   "name": "python",
   "nbconvert_exporter": "python",
   "pygments_lexer": "ipython3",
   "version": "3.9.16"
  }
 },
 "nbformat": 4,
 "nbformat_minor": 2
}
