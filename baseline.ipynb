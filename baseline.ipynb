{
 "cells": [
  {
   "cell_type": "code",
   "execution_count": 22,
   "metadata": {},
   "outputs": [],
   "source": [
    "import os \n",
    "import numpy as np\n",
    "import pandas as pd \n",
    "\n",
    "from sklearn.model_selection import cross_val_score\n",
    "from sklearn.naive_bayes import GaussianNB\n",
    "from sklearn.metrics import make_scorer, balanced_accuracy_score\n",
    "from sklearn.preprocessing import LabelEncoder"
   ]
  },
  {
   "cell_type": "markdown",
   "metadata": {},
   "source": [
    "# Load and prepare data"
   ]
  },
  {
   "cell_type": "markdown",
   "metadata": {},
   "source": [
    "Load data, it is assumed that folder data are in the same parent directory.  "
   ]
  },
  {
   "cell_type": "code",
   "execution_count": 23,
   "metadata": {},
   "outputs": [],
   "source": [
    "current_dir = os.getcwd()\n",
    "data_path = os.path.join(current_dir, \"data\")\n",
    "annotation_path = os.path.join(data_path, \"clinical_annotation.csv\")"
   ]
  },
  {
   "cell_type": "code",
   "execution_count": 24,
   "metadata": {},
   "outputs": [
    {
     "name": "stdout",
     "output_type": "stream",
     "text": [
      "<class 'pandas.core.frame.DataFrame'>\n",
      "RangeIndex: 205 entries, 0 to 204\n",
      "Data columns (total 5 columns):\n",
      " #   Column       Non-Null Count  Dtype  \n",
      "---  ------       --------------  -----  \n",
      " 0   ID           205 non-null    object \n",
      " 1   LABEL        205 non-null    int64  \n",
      " 2   GENDER       205 non-null    object \n",
      " 3   DOB          205 non-null    object \n",
      " 4   LYMPH_COUNT  205 non-null    float64\n",
      "dtypes: float64(1), int64(1), object(3)\n",
      "memory usage: 8.1+ KB\n"
     ]
    }
   ],
   "source": [
    "# load data \n",
    "df = pd.read_csv(annotation_path)\n",
    "df.drop('Unnamed: 0', axis=1, inplace=True)\n",
    "df.info()"
   ]
  },
  {
   "cell_type": "markdown",
   "metadata": {},
   "source": [
    "Now, the dataset need to be transformed in order to feed our baseline model: Naive Bayes. "
   ]
  },
  {
   "cell_type": "code",
   "execution_count": 25,
   "metadata": {},
   "outputs": [
    {
     "data": {
      "text/html": [
       "<div>\n",
       "<style scoped>\n",
       "    .dataframe tbody tr th:only-of-type {\n",
       "        vertical-align: middle;\n",
       "    }\n",
       "\n",
       "    .dataframe tbody tr th {\n",
       "        vertical-align: top;\n",
       "    }\n",
       "\n",
       "    .dataframe thead th {\n",
       "        text-align: right;\n",
       "    }\n",
       "</style>\n",
       "<table border=\"1\" class=\"dataframe\">\n",
       "  <thead>\n",
       "    <tr style=\"text-align: right;\">\n",
       "      <th></th>\n",
       "      <th>LABEL</th>\n",
       "      <th>GENDER</th>\n",
       "      <th>LYMPH_COUNT</th>\n",
       "      <th>age</th>\n",
       "    </tr>\n",
       "    <tr>\n",
       "      <th>ID</th>\n",
       "      <th></th>\n",
       "      <th></th>\n",
       "      <th></th>\n",
       "      <th></th>\n",
       "    </tr>\n",
       "  </thead>\n",
       "  <tbody>\n",
       "    <tr>\n",
       "      <th>P26</th>\n",
       "      <td>1</td>\n",
       "      <td>M</td>\n",
       "      <td>11.2</td>\n",
       "      <td>91</td>\n",
       "    </tr>\n",
       "    <tr>\n",
       "      <th>P183</th>\n",
       "      <td>1</td>\n",
       "      <td>M</td>\n",
       "      <td>12.8</td>\n",
       "      <td>82</td>\n",
       "    </tr>\n",
       "    <tr>\n",
       "      <th>P89</th>\n",
       "      <td>1</td>\n",
       "      <td>M</td>\n",
       "      <td>9.6</td>\n",
       "      <td>89</td>\n",
       "    </tr>\n",
       "    <tr>\n",
       "      <th>P123</th>\n",
       "      <td>1</td>\n",
       "      <td>M</td>\n",
       "      <td>122.6</td>\n",
       "      <td>93</td>\n",
       "    </tr>\n",
       "    <tr>\n",
       "      <th>P61</th>\n",
       "      <td>1</td>\n",
       "      <td>F</td>\n",
       "      <td>11.6</td>\n",
       "      <td>93</td>\n",
       "    </tr>\n",
       "  </tbody>\n",
       "</table>\n",
       "</div>"
      ],
      "text/plain": [
       "      LABEL GENDER  LYMPH_COUNT  age\n",
       "ID                                  \n",
       "P26       1      M         11.2   91\n",
       "P183      1      M         12.8   82\n",
       "P89       1      M          9.6   89\n",
       "P123      1      M        122.6   93\n",
       "P61       1      F         11.6   93"
      ]
     },
     "execution_count": 25,
     "metadata": {},
     "output_type": "execute_result"
    }
   ],
   "source": [
    "# remove label -1 corresponding to unalbeeled data \n",
    "df = df[df.LABEL >= 0]\n",
    "\n",
    "# compute age \n",
    "def compute_age(x):\n",
    "    year = int(x[-4:])\n",
    "    return 2024 - year\n",
    "    \n",
    "df[\"age\"] = df.DOB.apply(compute_age)\n",
    "df.drop(\"DOB\", axis=1, inplace=True)\n",
    "\n",
    "df.set_index(\"ID\", inplace=True)\n",
    "df.head()"
   ]
  },
  {
   "cell_type": "markdown",
   "metadata": {},
   "source": [
    "# Model training and evaluation "
   ]
  },
  {
   "cell_type": "markdown",
   "metadata": {},
   "source": [
    "Prepare data for training"
   ]
  },
  {
   "cell_type": "code",
   "execution_count": 26,
   "metadata": {},
   "outputs": [],
   "source": [
    "# Encode gender column\n",
    "df[\"GENDER\"] = df[\"GENDER\"].replace('f', \"F\")  # little fix\n",
    "label_encoder = LabelEncoder()\n",
    "df['GENDER'] = label_encoder.fit_transform(df['GENDER'])"
   ]
  },
  {
   "cell_type": "code",
   "execution_count": 27,
   "metadata": {},
   "outputs": [],
   "source": [
    "# seperate features from labels\n",
    "X = df.drop(\"LABEL\", axis=1).values\n",
    "y = df.LABEL.values"
   ]
  },
  {
   "cell_type": "markdown",
   "metadata": {},
   "source": [
    "Define and train the model"
   ]
  },
  {
   "cell_type": "code",
   "execution_count": 28,
   "metadata": {},
   "outputs": [
    {
     "name": "stdout",
     "output_type": "stream",
     "text": [
      "Cross-validation Balanced Accuracy Scores: [0.91666667 0.95833333 0.875      0.90909091 0.86363636 0.86363636\n",
      " 0.86363636 0.95454545 0.71818182 0.68181818]\n",
      "Mean Balanced Accuracy: 0.86 +/- 0.09\n"
     ]
    }
   ],
   "source": [
    "# Create Gaussian Naive Bayes classifier\n",
    "gnb = GaussianNB()\n",
    "\n",
    "# Define balanced accuracy scorer\n",
    "balanced_accuracy_scorer = make_scorer(balanced_accuracy_score)\n",
    "\n",
    "# Perform cross-validation\n",
    "cv_scores = cross_val_score(gnb, X, y, cv=10, scoring=balanced_accuracy_scorer)\n",
    "\n",
    "# Print the cross-validation scores\n",
    "print(\"Cross-validation Balanced Accuracy Scores:\", cv_scores)\n",
    "print(f\"Mean Balanced Accuracy: {round(np.mean(cv_scores), 2)} +/- {round(np.std(cv_scores), 2)}\")"
   ]
  },
  {
   "cell_type": "markdown",
   "metadata": {},
   "source": [
    "# Conclusion "
   ]
  },
  {
   "cell_type": "markdown",
   "metadata": {},
   "source": [
    "Thus, a baseline has been constructed leading to interesting results as it outperforms clearly the baseline of the Kaggle and such a submission would be rank top 15 on the leaderboard. "
   ]
  },
  {
   "cell_type": "markdown",
   "metadata": {},
   "source": [
    "# MUST BE REMOVED"
   ]
  },
  {
   "cell_type": "code",
   "execution_count": 34,
   "metadata": {},
   "outputs": [
    {
     "data": {
      "text/plain": [
       "14.0"
      ]
     },
     "execution_count": 34,
     "metadata": {},
     "output_type": "execute_result"
    }
   ],
   "source": [
    "20*0.7"
   ]
  }
 ],
 "metadata": {
  "kernelspec": {
   "display_name": "ml_b",
   "language": "python",
   "name": "python3"
  },
  "language_info": {
   "codemirror_mode": {
    "name": "ipython",
    "version": 3
   },
   "file_extension": ".py",
   "mimetype": "text/x-python",
   "name": "python",
   "nbconvert_exporter": "python",
   "pygments_lexer": "ipython3",
   "version": "3.9.16"
  }
 },
 "nbformat": 4,
 "nbformat_minor": 2
}
